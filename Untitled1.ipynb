{
 "cells": [
  {
   "cell_type": "code",
   "execution_count": null,
   "metadata": {},
   "outputs": [],
   "source": [
    "def seri(R1,R2,R3):\n",
    "    return R1+R2+R3\n",
    "def paralel(R1,R2,R3):\n",
    "    return (1/(1/R1+1/R2+1/R3))\n",
    "#input\n",
    "print(\"Silahkan masukan nilai\")\n",
    "r1=float (input('R1: '))\n",
    "r2=float (input('R2: '))\n",
    "r3=float (input('R3: '))\n",
    "\n",
    "print('seri: '+str(seri(r1,r2,r3)))\n",
    "print('paralel: '+str(paralel(r1,r2,r3)))"
   ]
  },
  {
   "cell_type": "code",
   "execution_count": null,
   "metadata": {},
   "outputs": [],
   "source": []
  }
 ],
 "metadata": {
  "kernelspec": {
   "display_name": "Python 3",
   "language": "python",
   "name": "python3"
  },
  "language_info": {
   "codemirror_mode": {
    "name": "ipython",
    "version": 3
   },
   "file_extension": ".py",
   "mimetype": "text/x-python",
   "name": "python",
   "nbconvert_exporter": "python",
   "pygments_lexer": "ipython3",
   "version": "3.7.3"
  }
 },
 "nbformat": 4,
 "nbformat_minor": 2
}
